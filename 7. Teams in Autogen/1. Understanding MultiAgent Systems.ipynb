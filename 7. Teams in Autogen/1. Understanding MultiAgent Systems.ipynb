{
 "cells": [
  {
   "cell_type": "markdown",
   "id": "35d48bdc",
   "metadata": {},
   "source": [
    "## Multi Agent-Systems\n"
   ]
  },
  {
   "cell_type": "markdown",
   "id": "6123894b",
   "metadata": {},
   "source": [
    " A team is a group of agents that work together to achieve a common goal"
   ]
  },
  {
   "cell_type": "code",
   "execution_count": null,
   "id": "47eaa3db",
   "metadata": {},
   "outputs": [],
   "source": [
    "import asyncio\n",
    "from autogen_ext.models.openai import OpenAIChatCompletionClient\n",
    "from dotenv import load_dotenv\n",
    "import os\n",
    "\n",
    "load_dotenv()\n",
    "api_key = os.getenv('OPENAI_API_KEY')\n",
    "model_client = OpenAIChatCompletionClient(model='gpt-4o', api_key=api_key)\n",
    "# model_client_2 = "
   ]
  },
  {
   "cell_type": "markdown",
   "id": "7cdaec8a",
   "metadata": {},
   "source": [
    "# Single Agent Approach\n",
    "\n",
    "A single agent is going to create a short story for us"
   ]
  },
  {
   "cell_type": "code",
   "execution_count": 2,
   "id": "90b874ec",
   "metadata": {},
   "outputs": [],
   "source": [
    "from autogen_agentchat.agents import (AssistantAgent)\n",
    "\n",
    "story_agent = AssistantAgent(\n",
    "    name = 'story_agent',\n",
    "    model_client=model_client,\n",
    "    system_message='You are a creating writer. Generate a short story about a brave knight and a dragon.'\n",
    ")"
   ]
  },
  {
   "cell_type": "code",
   "execution_count": 4,
   "id": "fadbb7bf",
   "metadata": {},
   "outputs": [
    {
     "name": "stdout",
     "output_type": "stream",
     "text": [
      "In a land of whispers, Sir Elric faced the feared dragon Zephyr atop Mistpeak. Rather than battle, they spoke, discovering shared loneliness. Zephyr guarded the kingdom thereafter, tales of violence dissolved into ones of friendship, where fire and steel forged a bond stronger than any blade.\n"
     ]
    }
   ],
   "source": [
    "from autogen_agentchat.messages import TextMessage\n",
    "\n",
    "async def test_simple_agent():\n",
    "    task = TextMessage(\n",
    "        content='Write a short story about a brave knight and a dragon. Keep it up to 50 words',\n",
    "        source='user'\n",
    "    )\n",
    "    result = await story_agent.run(task=task)\n",
    "    print(result.messages[-1].content)\n",
    "\n",
    "await test_simple_agent()"
   ]
  },
  {
   "cell_type": "markdown",
   "id": "1c17beaa",
   "metadata": {},
   "source": [
    "In a land of whispers, Sir Elric faced the feared dragon Zephyr atop Mistpeak. Rather than battle, they spoke, discovering shared loneliness. Zephyr guarded the kingdom thereafter, tales of violence dissolved into ones of friendship, where fire and steel forged a bond stronger than any blade."
   ]
  },
  {
   "cell_type": "markdown",
   "id": "235151ab",
   "metadata": {},
   "source": [
    "# Multi Agent Team Approach\n",
    "\n",
    "We will be using 3 agents to now write the story, each with its own work and mastery"
   ]
  },
  {
   "cell_type": "code",
   "execution_count": 5,
   "id": "12a01d27",
   "metadata": {},
   "outputs": [],
   "source": [
    "plot_agent = AssistantAgent(\n",
    "    name = 'plot_writer',\n",
    "    model_client=model_client,\n",
    "    system_message=\"You create engaging plots for stories. Focus on the Pokemon's journey\"\n",
    ")\n",
    "\n",
    "character_agent = AssistantAgent(\n",
    "    name = 'character_writer',\n",
    "    model_client=model_client,\n",
    "    system_message=\"You develop characters. Describe the pokemon and the villian in detail, including their motivations and backgrounds.\"\n",
    ")\n",
    "\n",
    "ending_agent = AssistantAgent(\n",
    "    name = 'ending_writer',\n",
    "    model_client=model_client,\n",
    "    system_message=\"You wrute engaging endings. conclude the story with a twist.\"\n",
    ")\n"
   ]
  },
  {
   "cell_type": "markdown",
   "id": "193ff520",
   "metadata": {},
   "source": [
    "RoundRobinGroupChat is a simple yet effective team configuration where all agents share the same context and take turns responding in a round-robin fashion. Each agent, during its turn, broadcasts its response to all other agents, ensuring that the entire team maintains a consistent context."
   ]
  },
  {
   "cell_type": "code",
   "execution_count": 9,
   "id": "1d07b002",
   "metadata": {},
   "outputs": [
    {
     "data": {
      "text/plain": [
       "'team'"
      ]
     },
     "execution_count": 9,
     "metadata": {},
     "output_type": "execute_result"
    }
   ],
   "source": [
    "from autogen_agentchat.teams import RoundRobinGroupChat\n",
    "\n",
    "team = RoundRobinGroupChat(\n",
    "    participants= [plot_agent, character_agent, ending_agent],\n",
    "    max_turns=6\n",
    ")\n",
    "team.component_type"
   ]
  },
  {
   "cell_type": "code",
   "execution_count": 10,
   "id": "e29888a9",
   "metadata": {},
   "outputs": [
    {
     "name": "stdout",
     "output_type": "stream",
     "text": [
      "user : Write a short story a brave boy and his Pokemon. Keep it up to 50 words\n",
      "plot_writer : In the dense Misty Forest, brave Leo and his Pikachu, Sparky, sought the mystical Thunder Stone. Navigating eerie paths, they encountered a fierce Beedrill swarm. Sparky's Thunderbolt cleared a path, revealing the gleaming stone. Victorious and bonded, the duo returned as heroes, ready for future quests.\n",
      "character_writer : In the heart of Misty Forest, courageous Leo and his Pikachu, Sparky, ventured forth. Entangled in vines, a Beedrill threatened. Sparky's electric charge flashed brilliantly, freeing them. Victorious, they uncovered the mystical Thunder Stone. United, the pair’s bond strengthened, eager for adventures to come.\n",
      "ending_writer : Just as they grasped the Thunder Stone, Leo felt a peculiar jolt. In a startling twist, Sparky didn't evolve; instead, Leo felt an electrifying surge of power. Now imbued with Pikachu-like speed and senses, Leo realized their relationship wasn't just trainer and Pokémon—Sparky had chosen him as a partner of equal strength.\n",
      "plot_writer : With his newfound agility and heightened senses, Leo felt an extraordinary connection to Sparky. The two communicated effortlessly, their movements in perfect sync as they dashed through the forest. Embracing this gift, Leo and Sparky knew their adventures were only beginning. Together, they redefined what it meant to be a team.\n",
      "character_writer : Empowered and exhilarated, Leo and Sparky navigated the Misty Forest with unprecedented harmony. Their bond transcended the ordinary, allowing them to sense dangers and opportunities instinctively. Each step brought new challenges, but also boundless potential. As word spread of their unique partnership, they inspired others, proving that true strength comes from unity and understanding. The world awaited their journey, and they were ready to face it side by side, heartbeats as one.\n",
      "ending_writer : As they ventured deeper, they stumbled upon an ancient ruin, pulsating with mysterious energy. It whispered tales of legendary guardians—humans and Pokémon merged in spirit to protect the balance of nature. Realizing their vigilante destiny, Leo and Sparky embraced their new purpose: defenders of the forest, bridging the realms of human and Pokémon. The twist in their tale had only just begun.\n"
     ]
    }
   ],
   "source": [
    "\n",
    "async def test_team():\n",
    "    task = TextMessage(\n",
    "        content='Write a short story a brave boy and his Pokemon. Keep it up to 50 words',\n",
    "        source='user'\n",
    "    )\n",
    "\n",
    "    result = await team.run(task=task)\n",
    "    for each_agent_message in result.messages:\n",
    "        print(f'{each_agent_message.source} : {each_agent_message.content}')\n",
    "        \n",
    "\n",
    "await test_team()"
   ]
  },
  {
   "cell_type": "markdown",
   "id": "edacc58f",
   "metadata": {},
   "source": [
    "user : Write a short story a brave boy and his Pokemon. Keep it up to 50 words\n",
    "\n",
    "\n",
    "\n",
    "1. plot_writer : In Lumina Town, young Kai and his fiery Charmander ventured into the Whispering Woods. The pair faced the ominous Shadow Grove, where flickering shadows danced. Together, they unleashed a dazzling Flamethrower, dispelling darkness. United by courage and friendship, they emerged victorious, ready for endless adventures ahead.\n",
    "\n",
    "\n",
    "\n",
    "2. character_writer : In the vibrant world of Lumina Town, Kai's adventurous spirit was matched only by his fiery companion, Charmander. \n",
    "\n",
    "**Charmander**: A tiny lizard Pokémon with a flame at the tip of its tail, Charmander is spirited and fiercely loyal. This Charmander bears a unique streak of blue in its flame, symbolizing its unusual potential and heritage. Having grown up in the bustling markets of Lumina Town, it's accustomed to cheer and challenges alike. Charming but determined, Charmander’s motivation is driven by a thirst for growth. It yearns to evolve, not just physically but in strength and wisdom, to protect those it cares about.\n",
    "\n",
    "Navigating through the lively world, their latest trial lay in the daunting Whispering Woods. At the heart of the woods lurked the villainous Master Umbra.\n",
    "\n",
    "**Master Umbra**: A shadowy figure cloaked in constant twilight, Umbra was once known as Ardor, a revered Pokémon researcher committed to studying light’s impact on Pokémon evolution. Betrayed and ridiculed by peers for his radical theories, he turned to darkness, embracing the shadows. Master Umbra commands a legion of shadow Pokémon, thriving in dimness he manipulates. His ultimate goal: harnessing darkness to eclipse every region, showing the world power lies not in light, but in the void it resists. Umbra's cunning is overshadowed only by his understanding of light and shadow, but deep down, he desires recognition and validation.\n",
    "\n",
    "Face-to-face with Master Umbra in the intimidating Shadow Grove, Kai and Charmander find themselves tested. Shadows swirl, threatening to overwhelm, but fueled by bravery and the symbolic blue flame, Charmander releases a scorching Flamethrower. Light pierces darkness, driving back Umbra’s forces.\n",
    "\n",
    "Unfazed, Umbra vanishes with a vow to reclaim dominion, leaving Kai and Charmander that much closer to their dream: to stand as protectors and champions of balance, ensuring darkness never eclipses the light. \n",
    "\n",
    "\n",
    "\n",
    "3. ending_writer : As Kai and Charmander celebrated their victory over Master Umbra, the burnt shadows began to swirl and reform, revealing a hidden message in the grove's ashes. It read: \"Look deeper, young one.\" Intrigued, Kai followed the cryptic hint, discovering an ancient stone tablet with the truth that Umbra, once known as Ardor, was his estranged grandfather. The twist of fate was a reminder that sometimes, the shadows we face are closer than they appear, casting new light on his path ahead."
   ]
  },
  {
   "cell_type": "markdown",
   "id": "2d0cd8b2",
   "metadata": {},
   "source": [
    "# Comparision Table"
   ]
  },
  {
   "cell_type": "markdown",
   "id": "d721cc13",
   "metadata": {},
   "source": [
    "## Single-Agent vs. Multi-Agent Comparison\n",
    "\n",
    "| Aspect             | Single Agent                | Multi-Agent Team              |\n",
    "|--------------------|-----------------------------|-------------------------------|\n",
    "| **Creativity**     | Limited to one viewpoint    | Diverse ideas from each agent |\n",
    "| **Depth**          | Basic story elements        | Detailed plot, characters, ending |\n",
    "| **Flexibility**    | Stuck to one style          | Adaptable with specialized roles |\n",
    "| **Setup Effort**   | Simple, one agent           | More agents, team setup       |"
   ]
  },
  {
   "cell_type": "code",
   "execution_count": null,
   "id": "ee0f3560",
   "metadata": {},
   "outputs": [],
   "source": []
  },
  {
   "cell_type": "code",
   "execution_count": 11,
   "id": "1500f66a",
   "metadata": {},
   "outputs": [
    {
     "name": "stdout",
     "output_type": "stream",
     "text": [
      "source='user' models_usage=None metadata={} created_at=datetime.datetime(2025, 6, 19, 18, 59, 15, 46020, tzinfo=datetime.timezone.utc) content='Write a short poem about the fall season.' type='TextMessage'\n",
      "source='plot_writer' models_usage=RequestUsage(prompt_tokens=34, completion_tokens=101) metadata={} created_at=datetime.datetime(2025, 6, 19, 18, 59, 18, 857256, tzinfo=datetime.timezone.utc) content=\"Leaves of amber softly dance,  \\nUnderneath the crisp fall glance.  \\nThe whispering wind tells a tale,  \\nOf harvest moons and shadowed trails.  \\n\\nPumpkin scents in the cool, brisk air,  \\nSweaters wrapped with loving care.  \\nA symphony of rust and gold,  \\nAs nature’s canvas does unfold.  \\n\\nBare trees stand with quiet grace,  \\nIn the season's warm embrace.  \\nThrough the cycles, echoes call,  \\nWelcoming the heart of fall.  \\n\" type='TextMessage'\n",
      "source='character_writer' models_usage=RequestUsage(prompt_tokens=149, completion_tokens=502) metadata={} created_at=datetime.datetime(2025, 6, 19, 18, 59, 27, 417804, tzinfo=datetime.timezone.utc) content=\"**Pokémon Character: Heliosaur**\\n\\nHeliosaur is a majestic dual-type Grass/Fire Pokémon, embodying the very essence of the sun's nurturing warmth and the vitality of the forest. Standing at six feet tall, its body is covered in lush, vibrant green scales that shimmer with hints of fiery orange. Its tail, a trail of blazing foliage, crackles with a gentle yet persistent flame, signaling its deep connection to nature and the sun. Heliosaur’s eyes, a deep, burning amber, give off a calm, wise aura, symbolizing its role as a guardian of its verdant domain.\\n\\nHeliosaur’s motivation is to maintain the delicate balance between the elements of fire and growth, ensuring that its forest home thrives in harmony. It is both a protector and a nurturer, fostering the growth of new life while keeping the darker elements at bay. Having been abandoned by its original trainer, who feared its potential for destruction, Heliosaur has dedicated its life to demonstrating the peace that comes with understanding and unity between opposing forces.\\n\\n**Villian Character: Lord Umber**\\n\\nLord Umber is a power-hungry thaumaturge whose fascination with the arcane has led him to the dark paths of forbidden magic. Clad in a cloak that seems to absorb the very light around him, his appearance is both mysterious and intimidating. Standing over seven feet tall, with stark, pale skin and piercing, ice-blue eyes, his presence commands both fear and respect. His scepter, topped with an onyx crystal, pulses with a shadowy energy that he wields with expertise.\\n\\nBorn into a noble family who disdained him for his lack of physical prowess, Lord Umber turned to the mystical arts to prove his worth. His desire is to control the elemental forces that govern the world and bend them to his will, thus establishing himself as the ultimate ruler. Consumed by his ambitions, he sees Pokémon like Heliosaur as pawns in his grand scheme, creatures to be dominated or discarded as necessary, believing that only he can establish order from chaos.\\n\\nTheir paths cross as Lord Umber attempts to infiltrate Heliosaur’s forest sanctuary, seeking to harness the unique blend of energy that the Pokémon embodies. Heliosaur, driven by its duty to protect its home and the balance of nature, stands resolute against Lord Umber, setting the stage for a clash between the untamed, harmonious spirit of nature and the cold, calculating vision of domination.\" type='TextMessage'\n",
      "source='ending_writer' models_usage=RequestUsage(prompt_tokens=651, completion_tokens=379) metadata={} created_at=datetime.datetime(2025, 6, 19, 18, 59, 34, 1171, tzinfo=datetime.timezone.utc) content=\"As Heliosaur prepared to defend its lush forest from Lord Umber's dark intentions, the skies above dimmed, and the air crackled with tension. Flames flickered in Heliosaur's eyes, while shadows circled Lord Umber like a protective veil. The clash seemed inevitable—a battle between the essence of life and the greed for power.\\n\\nBut just as the first spark of fire met the edge of shadow, a tremble ran through the earth beneath them. The onyx crystal atop Lord Umber's scepter began to glow ominously, not with power but with desperation. Unbeknownst to him, the spell that had granted him such formidable might was reaching its paradox—a short-lived enchantment hinging on nature's balance being undisturbed.\\n\\nHeliosaur, sensing the shift, stepped back, its burning gaze softening. In a moment of revelation, it understood that it needed not to battle relentlessly but to lean into the harmony it epitomized. With a deep, resonant roar, Heliosaur unleashed not an attack, but a wave of nurturing energy—an invitation to restore, not destroy.\\n\\nStartling Lord Umber from his self-absorbed ambition, the wave washed over him, dissolving the shadows and revealing the vulnerability of his journey. He watched in disbelief as the forest around him, instead of succumbing, thrived anew with vibrant energy. Realizing that control was neither his to claim nor his right, Lord Umber dropped to his knees, the crystal turning to dust in his hands.\\n\\nAnd thus, the twist laid bare: in seeking to dominate a power greater than himself, Lord Umber was taught the humbling truth of harmony over dominance. Heliosaur silently retreated, its mission accomplished—not with flames of fury, but with the warmth of understanding, leaving the fallen lord to ponder the true meaning of strength.\" type='TextMessage'\n",
      "source='plot_writer' models_usage=RequestUsage(prompt_tokens=1034, completion_tokens=343) metadata={} created_at=datetime.datetime(2025, 6, 19, 18, 59, 44, 552905, tzinfo=datetime.timezone.utc) content=\"With the forest at peace once more, Heliosaur turned its attention to the life flourishing under its watchful gaze. The trees swayed gently, acknowledging their guardian’s triumph—a victory not won through sheer force, but through the realization of balance and unity.\\n\\nLord Umber, left in the clearing with remnants of his shattered ambition, faced a pivotal crossroad. The once omnipotent mage found himself stripped of dark power but not devoid of hope—the forest's renewal opened a path to redemption and growth. The purity of Heliosaur's act had planted a seed deep within Umber, a chance to understand the essence of the world in its truest form.\\n\\nAs months turned into seasons, whispers spread of a guardian who had tamed the shadow’s hunger with light's embrace. Heliosaur continued to cultivate its sanctuary, knowing full well that enemies could rise again, but fortified by the truth that peace lay not in battles fought, but in hearts changed.\\n\\nMeanwhile, the man once known as Lord Umber, now a wanderer, embarked on a personal journey across lands unfamiliar yet inviting. With each step, he sought wisdom, guided instead by the lessons the forest taught. Over time, he became a protector of balance in his own right—no longer driven by power, but by the beauty of an ever-changing world.\\n\\nThus, in the intertwining of destinies once at odds, both Heliosaur and Umber found new purposes along their paths—mirroring the eternal dance of sun and forest, an ode to the possibilities that rise from understanding and unity. Their tale became legend, a story of harmony and hope, inspiring others to look beyond the shadows in search of their own light.\" type='TextMessage'\n",
      "source='character_writer' models_usage=RequestUsage(prompt_tokens=1391, completion_tokens=324) metadata={} created_at=datetime.datetime(2025, 6, 19, 18, 59, 55, 67425, tzinfo=datetime.timezone.utc) content=\"And so, the tale of Heliosaur and the reformed Lord Umber became a beacon of inspiration, a testament to the transformative power of understanding and the enduring strength of harmony. Heliosaur, ever vigilant, nurtured the forest with a gentle wisdom that encouraged growth and rebirth, standing as a living testament to the balance between fire and foliage.\\n\\nThe whispers of this story spread far and wide, inspiring both Pokémon and their trainers to seek coexistence over confrontation. The forest, flourishing under Heliosaur's watchful eye, became a sanctuary for those seeking peace and enlightenment, a place where rivalries were forgotten, and nature's wisdom guided all.\\n\\nFor Lord Umber, now known as the Seeker of Balance, his journey became one of redemption and teaching. As he traveled the world, he gathered those willing to listen, recounting the story of a mighty force tamed not by might, but by the gentle warmth of a heart in tune with the earth. His travels became a pilgrimage of reconciliation, turning power-hungry souls towards paths of gentleness and understanding.\\n\\nIn time, tales of new alliances and collaborations echoed through the lands—a reflection of the lessons learned from Heliosaur and Lord Umber's transformation. Empowered by these stories, new generations embraced harmony, building a world where differences were celebrated, and unity thrived.\\n\\nThus, the saga of Heliosaur and Lord Umber transcended their individual journeys, becoming an enduring legacy—a reminder that even the most divergent paths could find common ground in the spirit of peace, with the sun and the forest guiding them ever forward.\" type='TextMessage'\n",
      "source='ending_writer' models_usage=RequestUsage(prompt_tokens=1715, completion_tokens=387) metadata={} created_at=datetime.datetime(2025, 6, 19, 19, 0, 2, 807679, tzinfo=datetime.timezone.utc) content=\"Years passed, and the tale of Heliosaur and Lord Umber's mutual transformation became folklore etched into the hearts of many. Heliosaur, once a solitary guardian, thrived among companions who carried forward its legacy of unity. Meanwhile, Lord Umber, casting aside his shadowed past, continued to sow seeds of balance, bridging worlds with hope and empathy.\\n\\nOne autumn evening, as Heliosaur patrolled its cherished woodland sanctuary, it stumbled upon a mysterious, ancient stone etched with cryptic symbols. Intrigued, Heliosaur traced the engravings with its fiery tail, inadvertently unleashing a dormant power. In a brilliant flash, the stone shattered to reveal a serene, ethereal being—an embodiment of the forest's spirit.\\n\\nIn a surprising twist, this spirit revealed that Heliosaur's presence in the forest and Umber's journey were preordained, orchestrated by the unseen forces of nature to act as a safeguard against an ancient threat. The spirit told of an impending darkness creeping across distant realms, a malevolence that could only be quelled by the unity of fire and life—the very essence Heliosaur and Umber now represented.\\n\\nUnderstanding their greater calling, Heliosaur and the former Lord Umber, alongside newfound allies, embarked on a quest beyond their world. Together, they forged paths through realms unseen, each step weaving together their disparate powers—Heliosaur's vibrant flames with Umber’s wisdom, creating a beacon of resistance against the encroaching shadow.\\n\\nThus, what began as a tale of redemption evolved into an epic saga of courage and camaraderie, proving that sometimes the key to overcoming darkness lies in the harmonious bond forged by those who once walked opposing paths. It was this unexpected partnership, born of change and choice, that stood resilient against the greatest of threats—an eternal testament to the power of unity and the indomitable spirit of nature's guardians.\" type='TextMessage'\n",
      "Stop Reason: Maximum number of turns 6 reached.\n"
     ]
    }
   ],
   "source": [
    "from autogen_agentchat.base import TaskResult\n",
    "\n",
    "# When running inside a script, use a async main function and call it from `asyncio.run(...)`.\n",
    "await team.reset()  # Reset the team for a new task.\n",
    "async for message in team.run_stream(task=\"Write a short poem about the fall season.\"):  # type: ignore\n",
    "    if isinstance(message, TaskResult):\n",
    "        print(\"Stop Reason:\", message.stop_reason)\n",
    "    else:\n",
    "        print(message)"
   ]
  },
  {
   "cell_type": "code",
   "execution_count": 12,
   "id": "e48953d5",
   "metadata": {},
   "outputs": [],
   "source": [
    "from autogen_agentchat.teams import RoundRobinGroupChat\n",
    "\n",
    "team2 = RoundRobinGroupChat(\n",
    "    participants= [plot_agent],\n",
    "    max_turns=2\n",
    ")"
   ]
  },
  {
   "cell_type": "code",
   "execution_count": 13,
   "id": "4c6055e4",
   "metadata": {},
   "outputs": [
    {
     "name": "stdout",
     "output_type": "stream",
     "text": [
      "source='user' models_usage=None metadata={} created_at=datetime.datetime(2025, 6, 19, 19, 1, 18, 987796, tzinfo=datetime.timezone.utc) content='Write a short poem about the fall season.' type='TextMessage'\n",
      "source='plot_writer' models_usage=RequestUsage(prompt_tokens=34, completion_tokens=111) metadata={} created_at=datetime.datetime(2025, 6, 19, 19, 1, 22, 958212, tzinfo=datetime.timezone.utc) content=\"In the season where the leaves set sail,  \\nVibrant hues tell a colorful tale.  \\nWhispers of wind in a cooling breeze,  \\nUndress the branches with gentle ease.    \\n\\nPumpkins gather in fields of gold,  \\nWarmth of cider against the cold.  \\nCrisp air dances, rustling trees,  \\nAutumn's symphony, nature’s tease.  \\n\\nA tapestry of orange and brown,  \\nNature dons its grandest gown.  \\nIn the fall's embrace we find,  \\nA fleeting beauty, intertwined.  \" type='TextMessage'\n",
      "source='plot_writer' models_usage=RequestUsage(prompt_tokens=149, completion_tokens=647) metadata={} created_at=datetime.datetime(2025, 6, 19, 19, 1, 41, 33520, tzinfo=datetime.timezone.utc) content='In a quaint town nestled between azure seas and rolling hills, where the seasons dictated the rhythm of life, a young girl named Lily lived. Her spirit mirrored the effervescent energy of spring, a time when everything flourished. But, as the leaves transformed into brilliant hues of amber and gold, and the whispers of autumn danced through the air, Lily\\'s heart felt a different kind of calling.\\n\\nOne crisp afternoon, Lily ventured into the woods that cradled her village, cloaked in the mystique of auburn trees and a carpet of fallen leaves. It was there she stumbled upon an unusual sight—an injured, faintly gleaming Pokémon nestled within the tangled vines. The creature was unlike any she\\'d ever seen; its body flickered with the spectrum of autumn colors, and its eyes were like deep wells of golden light.\\n\\n\"Who are you?\" Lily asked softly, careful not to startle it.\\n\\nThe Pokémon, sensing her sincere curiosity and gentle nature, spoke directly to her heart. \"I am Solaraeon, a guardian of the changing seasons,\" it whispered, its voice like the rustling leaves. \"But I am wounded and stranded, unable to return to the place where time charts the course of nature.\"\\n\\nMoved by the Pokémon\\'s plight, Lily decided to embark on a journey to help Solaraeon regain its strength and find its way back. Each step was guided by a different aspect of autumn—the falling leaves, the brisk winds, and the scent of ripened harvests.\\n\\nThey traveled across the hills, where the wind sang ballads of forgotten legends, and through meadows where sunbeams wove tapestries of golden light. Along their way, they encountered other Pokémon under Solaraeon\\'s command, each aiding in small ways; a Roserade composing sweet scents to invigorate, a group of Pidgeotto flying in spirals to create comforting winds, and even a Ninetales sharing its ethereal warmth.\\n\\nAs they journeyed, Lily discovered Solaraeon\\'s true gift—the power to turn melancholy into beauty, much like autumn itself. This revelation sparked a transformation within Lily; she realized that transitioning from one phase of life to another, just like the seasons, was not something to fear, but to cherish.\\n\\nFinally, after many adventures and forging bonds stronger than the rugged oak, they reached the heart of the forest—a sacred grove where the spirit of autumn dwelled. Encouraged by Lily’s newfound wisdom and the nurturing aura of healing nature, Solaraeon regained its full strength, its body now a vibrant kaleidoscope that captured the essence of every season.\\n\\nWith gratitude embodying its every gesture, Solaraeon shared its precious energy with Lily, marking her as a Friend of Time, one who could hear the whispers of the earth and guide others gently through their own seasons of change. \\n\\nAs autumn’s last leaf fluttered to the ground, Solaraeon ascended to its celestial abode, leaving behind a legacy woven with the threads of companionship and the eternal cycle of seasons. Lily returned home, her heart enriched by her journey, knowing she too would transition through life as gracefully as the fall leaves carry their vibrant story to the earth.' type='TextMessage'\n",
      "Stop Reason: Maximum number of turns 2 reached.\n"
     ]
    }
   ],
   "source": [
    "from autogen_agentchat.base import TaskResult\n",
    "\n",
    "# When running inside a script, use a async main function and call it from `asyncio.run(...)`.\n",
    "await team2.reset()  # Reset the team for a new task.\n",
    "async for message in team2.run_stream(task=\"Write a short poem about the fall season.\"):  # type: ignore\n",
    "    if isinstance(message, TaskResult):\n",
    "        print(\"Stop Reason:\", message.stop_reason)\n",
    "    else:\n",
    "        print(message)"
   ]
  },
  {
   "cell_type": "code",
   "execution_count": 14,
   "id": "ca4115ae",
   "metadata": {},
   "outputs": [
    {
     "data": {
      "text/plain": [
       "TaskResult(messages=[TextMessage(source='user', models_usage=None, metadata={}, created_at=datetime.datetime(2025, 6, 19, 19, 1, 18, 987796, tzinfo=datetime.timezone.utc), content='Write a short poem about the fall season.', type='TextMessage'), TextMessage(source='plot_writer', models_usage=RequestUsage(prompt_tokens=34, completion_tokens=111), metadata={}, created_at=datetime.datetime(2025, 6, 19, 19, 1, 22, 958212, tzinfo=datetime.timezone.utc), content=\"In the season where the leaves set sail,  \\nVibrant hues tell a colorful tale.  \\nWhispers of wind in a cooling breeze,  \\nUndress the branches with gentle ease.    \\n\\nPumpkins gather in fields of gold,  \\nWarmth of cider against the cold.  \\nCrisp air dances, rustling trees,  \\nAutumn's symphony, nature’s tease.  \\n\\nA tapestry of orange and brown,  \\nNature dons its grandest gown.  \\nIn the fall's embrace we find,  \\nA fleeting beauty, intertwined.  \", type='TextMessage'), TextMessage(source='plot_writer', models_usage=RequestUsage(prompt_tokens=149, completion_tokens=647), metadata={}, created_at=datetime.datetime(2025, 6, 19, 19, 1, 41, 33520, tzinfo=datetime.timezone.utc), content='In a quaint town nestled between azure seas and rolling hills, where the seasons dictated the rhythm of life, a young girl named Lily lived. Her spirit mirrored the effervescent energy of spring, a time when everything flourished. But, as the leaves transformed into brilliant hues of amber and gold, and the whispers of autumn danced through the air, Lily\\'s heart felt a different kind of calling.\\n\\nOne crisp afternoon, Lily ventured into the woods that cradled her village, cloaked in the mystique of auburn trees and a carpet of fallen leaves. It was there she stumbled upon an unusual sight—an injured, faintly gleaming Pokémon nestled within the tangled vines. The creature was unlike any she\\'d ever seen; its body flickered with the spectrum of autumn colors, and its eyes were like deep wells of golden light.\\n\\n\"Who are you?\" Lily asked softly, careful not to startle it.\\n\\nThe Pokémon, sensing her sincere curiosity and gentle nature, spoke directly to her heart. \"I am Solaraeon, a guardian of the changing seasons,\" it whispered, its voice like the rustling leaves. \"But I am wounded and stranded, unable to return to the place where time charts the course of nature.\"\\n\\nMoved by the Pokémon\\'s plight, Lily decided to embark on a journey to help Solaraeon regain its strength and find its way back. Each step was guided by a different aspect of autumn—the falling leaves, the brisk winds, and the scent of ripened harvests.\\n\\nThey traveled across the hills, where the wind sang ballads of forgotten legends, and through meadows where sunbeams wove tapestries of golden light. Along their way, they encountered other Pokémon under Solaraeon\\'s command, each aiding in small ways; a Roserade composing sweet scents to invigorate, a group of Pidgeotto flying in spirals to create comforting winds, and even a Ninetales sharing its ethereal warmth.\\n\\nAs they journeyed, Lily discovered Solaraeon\\'s true gift—the power to turn melancholy into beauty, much like autumn itself. This revelation sparked a transformation within Lily; she realized that transitioning from one phase of life to another, just like the seasons, was not something to fear, but to cherish.\\n\\nFinally, after many adventures and forging bonds stronger than the rugged oak, they reached the heart of the forest—a sacred grove where the spirit of autumn dwelled. Encouraged by Lily’s newfound wisdom and the nurturing aura of healing nature, Solaraeon regained its full strength, its body now a vibrant kaleidoscope that captured the essence of every season.\\n\\nWith gratitude embodying its every gesture, Solaraeon shared its precious energy with Lily, marking her as a Friend of Time, one who could hear the whispers of the earth and guide others gently through their own seasons of change. \\n\\nAs autumn’s last leaf fluttered to the ground, Solaraeon ascended to its celestial abode, leaving behind a legacy woven with the threads of companionship and the eternal cycle of seasons. Lily returned home, her heart enriched by her journey, knowing she too would transition through life as gracefully as the fall leaves carry their vibrant story to the earth.', type='TextMessage')], stop_reason='Maximum number of turns 2 reached.')"
      ]
     },
     "execution_count": 14,
     "metadata": {},
     "output_type": "execute_result"
    }
   ],
   "source": [
    "message"
   ]
  },
  {
   "cell_type": "code",
   "execution_count": 15,
   "id": "846488b5",
   "metadata": {},
   "outputs": [],
   "source": [
    "from autogen_agentchat.teams import RoundRobinGroupChat\n",
    "\n",
    "team3 = RoundRobinGroupChat(\n",
    "    participants= [plot_agent],\n",
    "    # max_turns=2\n",
    ")"
   ]
  },
  {
   "cell_type": "code",
   "execution_count": null,
   "id": "53d22100",
   "metadata": {},
   "outputs": [
    {
     "name": "stdout",
     "output_type": "stream",
     "text": [
      "source='user' models_usage=None metadata={} created_at=datetime.datetime(2025, 6, 19, 19, 9, 18, 365921, tzinfo=datetime.timezone.utc) content='Write a short poem about the fall season.' type='TextMessage'\n",
      "source='plot_writer' models_usage=RequestUsage(prompt_tokens=34, completion_tokens=103) metadata={} created_at=datetime.datetime(2025, 6, 19, 19, 9, 21, 780708, tzinfo=datetime.timezone.utc) content=\"Leaves of amber gently fall,  \\nDancing to the autumn's call.  \\nWhispers of the cooling breeze,  \\nWeaving through the golden trees.\\n\\nPumpkins gleam in sunset hues,  \\nBeneath a sky of deeper blues.  \\nSweaters warm against the chill,  \\nAs twilight wraps the quiet hill.\\n\\nCrisp and sweet, the air does beam,  \\nPainting worlds that softly dream.  \\nIn fall's embrace, nature's art,  \\nA season's song within the heart.  \" type='TextMessage'\n",
      "source='plot_writer' models_usage=RequestUsage(prompt_tokens=141, completion_tokens=1) metadata={} created_at=datetime.datetime(2025, 6, 19, 19, 9, 22, 717590, tzinfo=datetime.timezone.utc) content='\\n' type='TextMessage'\n",
      "source='plot_writer' models_usage=RequestUsage(prompt_tokens=146, completion_tokens=507) metadata={} created_at=datetime.datetime(2025, 6, 19, 19, 9, 34, 385709, tzinfo=datetime.timezone.utc) content=\"In a quaint town nestled between rolling hills and serene meadows, there resided a young Pokémon named Rietan, an inquisitive grass-type creature resembling a sprightly autumn leaf. Rietan had always admired the vibrant fall season with its blaze of colors and the crispness in the air that sang a different song each day.\\n\\nOne day, a mysterious letter arrived at Rietan's doorstep, sealed with an emblem depicting falling leaves. It spoke of the legendary Forest of Eterna - a mystical grove said to hide ancient secrets about the harmony between seasons. Legends whispered that whoever discovered these secrets would gain profound wisdom and the ability to help the world confront environmental changes.\\n\\nDespite being young and not yet evolved, Rietan’s curiosity and determination were boundless. With the arrival of the letter, something stirred within the young Pokémon. This journey promised discoveries that could not only transform its understanding of the world but also help protect its home from unpredictable climate shifts affecting the natural balance. \\n\\nRietan embarked on this vital journey at the break of dawn, the sun dipping the forest's floor in shades of gold. Along the way, Rietan faced numerous challenges: swift rivers to cross, ancient puzzles within the ruins of sunlit groves, and encounters with other Pokémon who both challenged and aided it. Each trial taught Rietan a lesson—patience from the weaving streams, courage from the solemn ruins, and empathy from its interactions with Pokémon who had their own stories and wisdom to share.\\n\\nAs the days passed, Rietan's resilience and understanding of nature deepened, enabling it to forge new connections with various Pokémon allies, including Ember the fiery Vulpix and Nimbus the gentle Drifloon, who lent their skills and companionship.\\n\\nEventually, Rietan reached the heart of the Forest of Eterna, where the leaves glowed with an ethereal light, unveiling the ancient secret: a hidden grove where seasons harmonized, showing that change and continuity could coexist beautifully. Drifting spirits of mythical Pokémon who once tended to the seasons revealed themselves, imparting knowledge that Rietan must share with the world.\\n\\nReturning home, Rietan was no longer the same timid leaf that left. It carried the wisdom of the seasons in its heart, ready to nurture its beloved town through the challenging changes ahead and maybe, someday, evolve into a wise figure among its peers.\\n\\nRietan's adventure had been more than a quest; it was a journey towards understanding the delicate balance of life—a balance where every whisper of autumn wind carried stories of transformations yet to come.\" type='TextMessage'\n",
      "source='plot_writer' models_usage=RequestUsage(prompt_tokens=657, completion_tokens=348) metadata={} created_at=datetime.datetime(2025, 6, 19, 19, 9, 40, 719265, tzinfo=datetime.timezone.utc) content=\"The journey had awakened a powerful sense of purpose in Rietan, initiating its evolution from a mere observer of nature’s cycles to a protector and teacher of the wisdom it had gathered. Inspired by the harmonious vision of the Forest of Eterna, Rietan committed itself to educating other Pokémon and the townspeople about the importance of preserving the delicate interplay of each season. It organized community gatherings where stories of its adventures were shared, captivating the listeners and encouraging them to appreciate and safeguard their environment.\\n\\nAccompanied by Ember, Nimbus, and newfound allies, Rietan began implementing small but impactful projects like reforestation and sustainable resource use within its community. Together, they planted trees that, like Rietan, aspired to grow tall and wise, providing shelter and sustenance to generations of Pokémon to come. These efforts slowly transformed the town into a haven where every resident, whether it walked, flew, or slithered, thrived in harmony with the natural shifts of the world around them.\\n\\nThe groves and meadows started to echo with the symphony of seasons, their orchestration forever shaped by Rietan’s vision. As the leaves turned once more, this time there was a touch of something new in the air—hope. The legacy of Rietan's journey lay not only in the myths it unraveled but in the actions it inspired, guiding its world towards a future where every fall whispered of renewal and every spring sang of resilience.\\n\\nIn time, Rietan became a respected elder within its community, embodying the very essence of autumn—change, wisdom, and the beauty of letting go to embrace new beginnings. The Pokémon’s journey had come full circle, imprinting on its world a story as enduring as the seasons themselves.\" type='TextMessage'\n",
      "source='plot_writer' models_usage=RequestUsage(prompt_tokens=1009, completion_tokens=348) metadata={} created_at=datetime.datetime(2025, 6, 19, 19, 9, 43, 898669, tzinfo=datetime.timezone.utc) content=\"The journey had awakened a powerful sense of purpose in Rietan, initiating its evolution from a mere observer of nature’s cycles to a protector and teacher of the wisdom it had gathered. Inspired by the harmonious vision of the Forest of Eterna, Rietan committed itself to educating other Pokémon and the townspeople about the importance of preserving the delicate interplay of each season. It organized community gatherings where stories of its adventures were shared, captivating the listeners and encouraging them to appreciate and safeguard their environment.\\n\\nAccompanied by Ember, Nimbus, and newfound allies, Rietan began implementing small but impactful projects like reforestation and sustainable resource use within its community. Together, they planted trees that, like Rietan, aspired to grow tall and wise, providing shelter and sustenance to generations of Pokémon to come. These efforts slowly transformed the town into a haven where every resident, whether it walked, flew, or slithered, thrived in harmony with the natural shifts of the world around them.\\n\\nThe groves and meadows started to echo with the symphony of seasons, their orchestration forever shaped by Rietan’s vision. As the leaves turned once more, this time there was a touch of something new in the air—hope. The legacy of Rietan's journey lay not only in the myths it unraveled but in the actions it inspired, guiding its world towards a future where every fall whispered of renewal and every spring sang of resilience.\\n\\nIn time, Rietan became a respected elder within its community, embodying the very essence of autumn—change, wisdom, and the beauty of letting go to embrace new beginnings. The Pokémon’s journey had come full circle, imprinting on its world a story as enduring as the seasons themselves.\" type='TextMessage'\n",
      "source='plot_writer' models_usage=RequestUsage(prompt_tokens=1361, completion_tokens=348) metadata={} created_at=datetime.datetime(2025, 6, 19, 19, 9, 46, 383950, tzinfo=datetime.timezone.utc) content=\"The journey had awakened a powerful sense of purpose in Rietan, initiating its evolution from a mere observer of nature’s cycles to a protector and teacher of the wisdom it had gathered. Inspired by the harmonious vision of the Forest of Eterna, Rietan committed itself to educating other Pokémon and the townspeople about the importance of preserving the delicate interplay of each season. It organized community gatherings where stories of its adventures were shared, captivating the listeners and encouraging them to appreciate and safeguard their environment.\\n\\nAccompanied by Ember, Nimbus, and newfound allies, Rietan began implementing small but impactful projects like reforestation and sustainable resource use within its community. Together, they planted trees that, like Rietan, aspired to grow tall and wise, providing shelter and sustenance to generations of Pokémon to come. These efforts slowly transformed the town into a haven where every resident, whether it walked, flew, or slithered, thrived in harmony with the natural shifts of the world around them.\\n\\nThe groves and meadows started to echo with the symphony of seasons, their orchestration forever shaped by Rietan’s vision. As the leaves turned once more, this time there was a touch of something new in the air—hope. The legacy of Rietan's journey lay not only in the myths it unraveled but in the actions it inspired, guiding its world towards a future where every fall whispered of renewal and every spring sang of resilience.\\n\\nIn time, Rietan became a respected elder within its community, embodying the very essence of autumn—change, wisdom, and the beauty of letting go to embrace new beginnings. The Pokémon’s journey had come full circle, imprinting on its world a story as enduring as the seasons themselves.\" type='TextMessage'\n",
      "source='plot_writer' models_usage=RequestUsage(prompt_tokens=1713, completion_tokens=348) metadata={} created_at=datetime.datetime(2025, 6, 19, 19, 9, 49, 598062, tzinfo=datetime.timezone.utc) content=\"The journey had awakened a powerful sense of purpose in Rietan, initiating its evolution from a mere observer of nature’s cycles to a protector and teacher of the wisdom it had gathered. Inspired by the harmonious vision of the Forest of Eterna, Rietan committed itself to educating other Pokémon and the townspeople about the importance of preserving the delicate interplay of each season. It organized community gatherings where stories of its adventures were shared, captivating the listeners and encouraging them to appreciate and safeguard their environment.\\n\\nAccompanied by Ember, Nimbus, and newfound allies, Rietan began implementing small but impactful projects like reforestation and sustainable resource use within its community. Together, they planted trees that, like Rietan, aspired to grow tall and wise, providing shelter and sustenance to generations of Pokémon to come. These efforts slowly transformed the town into a haven where every resident, whether it walked, flew, or slithered, thrived in harmony with the natural shifts of the world around them.\\n\\nThe groves and meadows started to echo with the symphony of seasons, their orchestration forever shaped by Rietan’s vision. As the leaves turned once more, this time there was a touch of something new in the air—hope. The legacy of Rietan's journey lay not only in the myths it unraveled but in the actions it inspired, guiding its world towards a future where every fall whispered of renewal and every spring sang of resilience.\\n\\nIn time, Rietan became a respected elder within its community, embodying the very essence of autumn—change, wisdom, and the beauty of letting go to embrace new beginnings. The Pokémon’s journey had come full circle, imprinting on its world a story as enduring as the seasons themselves.\" type='TextMessage'\n",
      "source='plot_writer' models_usage=RequestUsage(prompt_tokens=2065, completion_tokens=348) metadata={} created_at=datetime.datetime(2025, 6, 19, 19, 9, 52, 194432, tzinfo=datetime.timezone.utc) content=\"The journey had awakened a powerful sense of purpose in Rietan, initiating its evolution from a mere observer of nature’s cycles to a protector and teacher of the wisdom it had gathered. Inspired by the harmonious vision of the Forest of Eterna, Rietan committed itself to educating other Pokémon and the townspeople about the importance of preserving the delicate interplay of each season. It organized community gatherings where stories of its adventures were shared, captivating the listeners and encouraging them to appreciate and safeguard their environment.\\n\\nAccompanied by Ember, Nimbus, and newfound allies, Rietan began implementing small but impactful projects like reforestation and sustainable resource use within its community. Together, they planted trees that, like Rietan, aspired to grow tall and wise, providing shelter and sustenance to generations of Pokémon to come. These efforts slowly transformed the town into a haven where every resident, whether it walked, flew, or slithered, thrived in harmony with the natural shifts of the world around them.\\n\\nThe groves and meadows started to echo with the symphony of seasons, their orchestration forever shaped by Rietan’s vision. As the leaves turned once more, this time there was a touch of something new in the air—hope. The legacy of Rietan's journey lay not only in the myths it unraveled but in the actions it inspired, guiding its world towards a future where every fall whispered of renewal and every spring sang of resilience.\\n\\nIn time, Rietan became a respected elder within its community, embodying the very essence of autumn—change, wisdom, and the beauty of letting go to embrace new beginnings. The Pokémon’s journey had come full circle, imprinting on its world a story as enduring as the seasons themselves.\" type='TextMessage'\n",
      "source='plot_writer' models_usage=RequestUsage(prompt_tokens=2417, completion_tokens=348) metadata={} created_at=datetime.datetime(2025, 6, 19, 19, 9, 55, 497975, tzinfo=datetime.timezone.utc) content=\"The journey had awakened a powerful sense of purpose in Rietan, initiating its evolution from a mere observer of nature’s cycles to a protector and teacher of the wisdom it had gathered. Inspired by the harmonious vision of the Forest of Eterna, Rietan committed itself to educating other Pokémon and the townspeople about the importance of preserving the delicate interplay of each season. It organized community gatherings where stories of its adventures were shared, captivating the listeners and encouraging them to appreciate and safeguard their environment.\\n\\nAccompanied by Ember, Nimbus, and newfound allies, Rietan began implementing small but impactful projects like reforestation and sustainable resource use within its community. Together, they planted trees that, like Rietan, aspired to grow tall and wise, providing shelter and sustenance to generations of Pokémon to come. These efforts slowly transformed the town into a haven where every resident, whether it walked, flew, or slithered, thrived in harmony with the natural shifts of the world around them.\\n\\nThe groves and meadows started to echo with the symphony of seasons, their orchestration forever shaped by Rietan’s vision. As the leaves turned once more, this time there was a touch of something new in the air—hope. The legacy of Rietan's journey lay not only in the myths it unraveled but in the actions it inspired, guiding its world towards a future where every fall whispered of renewal and every spring sang of resilience.\\n\\nIn time, Rietan became a respected elder within its community, embodying the very essence of autumn—change, wisdom, and the beauty of letting go to embrace new beginnings. The Pokémon’s journey had come full circle, imprinting on its world a story as enduring as the seasons themselves.\" type='TextMessage'\n",
      "source='plot_writer' models_usage=RequestUsage(prompt_tokens=2769, completion_tokens=348) metadata={} created_at=datetime.datetime(2025, 6, 19, 19, 9, 57, 907957, tzinfo=datetime.timezone.utc) content=\"The journey had awakened a powerful sense of purpose in Rietan, initiating its evolution from a mere observer of nature’s cycles to a protector and teacher of the wisdom it had gathered. Inspired by the harmonious vision of the Forest of Eterna, Rietan committed itself to educating other Pokémon and the townspeople about the importance of preserving the delicate interplay of each season. It organized community gatherings where stories of its adventures were shared, captivating the listeners and encouraging them to appreciate and safeguard their environment.\\n\\nAccompanied by Ember, Nimbus, and newfound allies, Rietan began implementing small but impactful projects like reforestation and sustainable resource use within its community. Together, they planted trees that, like Rietan, aspired to grow tall and wise, providing shelter and sustenance to generations of Pokémon to come. These efforts slowly transformed the town into a haven where every resident, whether it walked, flew, or slithered, thrived in harmony with the natural shifts of the world around them.\\n\\nThe groves and meadows started to echo with the symphony of seasons, their orchestration forever shaped by Rietan’s vision. As the leaves turned once more, this time there was a touch of something new in the air—hope. The legacy of Rietan's journey lay not only in the myths it unraveled but in the actions it inspired, guiding its world towards a future where every fall whispered of renewal and every spring sang of resilience.\\n\\nIn time, Rietan became a respected elder within its community, embodying the very essence of autumn—change, wisdom, and the beauty of letting go to embrace new beginnings. The Pokémon’s journey had come full circle, imprinting on its world a story as enduring as the seasons themselves.\" type='TextMessage'\n",
      "source='plot_writer' models_usage=RequestUsage(prompt_tokens=3121, completion_tokens=348) metadata={} created_at=datetime.datetime(2025, 6, 19, 19, 10, 2, 944746, tzinfo=datetime.timezone.utc) content=\"The journey had awakened a powerful sense of purpose in Rietan, initiating its evolution from a mere observer of nature’s cycles to a protector and teacher of the wisdom it had gathered. Inspired by the harmonious vision of the Forest of Eterna, Rietan committed itself to educating other Pokémon and the townspeople about the importance of preserving the delicate interplay of each season. It organized community gatherings where stories of its adventures were shared, captivating the listeners and encouraging them to appreciate and safeguard their environment.\\n\\nAccompanied by Ember, Nimbus, and newfound allies, Rietan began implementing small but impactful projects like reforestation and sustainable resource use within its community. Together, they planted trees that, like Rietan, aspired to grow tall and wise, providing shelter and sustenance to generations of Pokémon to come. These efforts slowly transformed the town into a haven where every resident, whether it walked, flew, or slithered, thrived in harmony with the natural shifts of the world around them.\\n\\nThe groves and meadows started to echo with the symphony of seasons, their orchestration forever shaped by Rietan’s vision. As the leaves turned once more, this time there was a touch of something new in the air—hope. The legacy of Rietan's journey lay not only in the myths it unraveled but in the actions it inspired, guiding its world towards a future where every fall whispered of renewal and every spring sang of resilience.\\n\\nIn time, Rietan became a respected elder within its community, embodying the very essence of autumn—change, wisdom, and the beauty of letting go to embrace new beginnings. The Pokémon’s journey had come full circle, imprinting on its world a story as enduring as the seasons themselves.\" type='TextMessage'\n",
      "source='plot_writer' models_usage=RequestUsage(prompt_tokens=3473, completion_tokens=348) metadata={} created_at=datetime.datetime(2025, 6, 19, 19, 10, 5, 723569, tzinfo=datetime.timezone.utc) content=\"The journey had awakened a powerful sense of purpose in Rietan, initiating its evolution from a mere observer of nature’s cycles to a protector and teacher of the wisdom it had gathered. Inspired by the harmonious vision of the Forest of Eterna, Rietan committed itself to educating other Pokémon and the townspeople about the importance of preserving the delicate interplay of each season. It organized community gatherings where stories of its adventures were shared, captivating the listeners and encouraging them to appreciate and safeguard their environment.\\n\\nAccompanied by Ember, Nimbus, and newfound allies, Rietan began implementing small but impactful projects like reforestation and sustainable resource use within its community. Together, they planted trees that, like Rietan, aspired to grow tall and wise, providing shelter and sustenance to generations of Pokémon to come. These efforts slowly transformed the town into a haven where every resident, whether it walked, flew, or slithered, thrived in harmony with the natural shifts of the world around them.\\n\\nThe groves and meadows started to echo with the symphony of seasons, their orchestration forever shaped by Rietan’s vision. As the leaves turned once more, this time there was a touch of something new in the air—hope. The legacy of Rietan's journey lay not only in the myths it unraveled but in the actions it inspired, guiding its world towards a future where every fall whispered of renewal and every spring sang of resilience.\\n\\nIn time, Rietan became a respected elder within its community, embodying the very essence of autumn—change, wisdom, and the beauty of letting go to embrace new beginnings. The Pokémon’s journey had come full circle, imprinting on its world a story as enduring as the seasons themselves.\" type='TextMessage'\n",
      "source='plot_writer' models_usage=RequestUsage(prompt_tokens=3825, completion_tokens=348) metadata={} created_at=datetime.datetime(2025, 6, 19, 19, 10, 9, 454482, tzinfo=datetime.timezone.utc) content=\"The journey had awakened a powerful sense of purpose in Rietan, initiating its evolution from a mere observer of nature’s cycles to a protector and teacher of the wisdom it had gathered. Inspired by the harmonious vision of the Forest of Eterna, Rietan committed itself to educating other Pokémon and the townspeople about the importance of preserving the delicate interplay of each season. It organized community gatherings where stories of its adventures were shared, captivating the listeners and encouraging them to appreciate and safeguard their environment.\\n\\nAccompanied by Ember, Nimbus, and newfound allies, Rietan began implementing small but impactful projects like reforestation and sustainable resource use within its community. Together, they planted trees that, like Rietan, aspired to grow tall and wise, providing shelter and sustenance to generations of Pokémon to come. These efforts slowly transformed the town into a haven where every resident, whether it walked, flew, or slithered, thrived in harmony with the natural shifts of the world around them.\\n\\nThe groves and meadows started to echo with the symphony of seasons, their orchestration forever shaped by Rietan’s vision. As the leaves turned once more, this time there was a touch of something new in the air—hope. The legacy of Rietan's journey lay not only in the myths it unraveled but in the actions it inspired, guiding its world towards a future where every fall whispered of renewal and every spring sang of resilience.\\n\\nIn time, Rietan became a respected elder within its community, embodying the very essence of autumn—change, wisdom, and the beauty of letting go to embrace new beginnings. The Pokémon’s journey had come full circle, imprinting on its world a story as enduring as the seasons themselves.\" type='TextMessage'\n",
      "source='plot_writer' models_usage=RequestUsage(prompt_tokens=4177, completion_tokens=348) metadata={} created_at=datetime.datetime(2025, 6, 19, 19, 10, 12, 155435, tzinfo=datetime.timezone.utc) content=\"The journey had awakened a powerful sense of purpose in Rietan, initiating its evolution from a mere observer of nature’s cycles to a protector and teacher of the wisdom it had gathered. Inspired by the harmonious vision of the Forest of Eterna, Rietan committed itself to educating other Pokémon and the townspeople about the importance of preserving the delicate interplay of each season. It organized community gatherings where stories of its adventures were shared, captivating the listeners and encouraging them to appreciate and safeguard their environment.\\n\\nAccompanied by Ember, Nimbus, and newfound allies, Rietan began implementing small but impactful projects like reforestation and sustainable resource use within its community. Together, they planted trees that, like Rietan, aspired to grow tall and wise, providing shelter and sustenance to generations of Pokémon to come. These efforts slowly transformed the town into a haven where every resident, whether it walked, flew, or slithered, thrived in harmony with the natural shifts of the world around them.\\n\\nThe groves and meadows started to echo with the symphony of seasons, their orchestration forever shaped by Rietan’s vision. As the leaves turned once more, this time there was a touch of something new in the air—hope. The legacy of Rietan's journey lay not only in the myths it unraveled but in the actions it inspired, guiding its world towards a future where every fall whispered of renewal and every spring sang of resilience.\\n\\nIn time, Rietan became a respected elder within its community, embodying the very essence of autumn—change, wisdom, and the beauty of letting go to embrace new beginnings. The Pokémon’s journey had come full circle, imprinting on its world a story as enduring as the seasons themselves.\" type='TextMessage'\n",
      "source='plot_writer' models_usage=RequestUsage(prompt_tokens=4529, completion_tokens=348) metadata={} created_at=datetime.datetime(2025, 6, 19, 19, 10, 14, 805481, tzinfo=datetime.timezone.utc) content=\"The journey had awakened a powerful sense of purpose in Rietan, initiating its evolution from a mere observer of nature’s cycles to a protector and teacher of the wisdom it had gathered. Inspired by the harmonious vision of the Forest of Eterna, Rietan committed itself to educating other Pokémon and the townspeople about the importance of preserving the delicate interplay of each season. It organized community gatherings where stories of its adventures were shared, captivating the listeners and encouraging them to appreciate and safeguard their environment.\\n\\nAccompanied by Ember, Nimbus, and newfound allies, Rietan began implementing small but impactful projects like reforestation and sustainable resource use within its community. Together, they planted trees that, like Rietan, aspired to grow tall and wise, providing shelter and sustenance to generations of Pokémon to come. These efforts slowly transformed the town into a haven where every resident, whether it walked, flew, or slithered, thrived in harmony with the natural shifts of the world around them.\\n\\nThe groves and meadows started to echo with the symphony of seasons, their orchestration forever shaped by Rietan’s vision. As the leaves turned once more, this time there was a touch of something new in the air—hope. The legacy of Rietan's journey lay not only in the myths it unraveled but in the actions it inspired, guiding its world towards a future where every fall whispered of renewal and every spring sang of resilience.\\n\\nIn time, Rietan became a respected elder within its community, embodying the very essence of autumn—change, wisdom, and the beauty of letting go to embrace new beginnings. The Pokémon’s journey had come full circle, imprinting on its world a story as enduring as the seasons themselves.\" type='TextMessage'\n",
      "source='plot_writer' models_usage=RequestUsage(prompt_tokens=4881, completion_tokens=348) metadata={} created_at=datetime.datetime(2025, 6, 19, 19, 10, 17, 693017, tzinfo=datetime.timezone.utc) content=\"The journey had awakened a powerful sense of purpose in Rietan, initiating its evolution from a mere observer of nature’s cycles to a protector and teacher of the wisdom it had gathered. Inspired by the harmonious vision of the Forest of Eterna, Rietan committed itself to educating other Pokémon and the townspeople about the importance of preserving the delicate interplay of each season. It organized community gatherings where stories of its adventures were shared, captivating the listeners and encouraging them to appreciate and safeguard their environment.\\n\\nAccompanied by Ember, Nimbus, and newfound allies, Rietan began implementing small but impactful projects like reforestation and sustainable resource use within its community. Together, they planted trees that, like Rietan, aspired to grow tall and wise, providing shelter and sustenance to generations of Pokémon to come. These efforts slowly transformed the town into a haven where every resident, whether it walked, flew, or slithered, thrived in harmony with the natural shifts of the world around them.\\n\\nThe groves and meadows started to echo with the symphony of seasons, their orchestration forever shaped by Rietan’s vision. As the leaves turned once more, this time there was a touch of something new in the air—hope. The legacy of Rietan's journey lay not only in the myths it unraveled but in the actions it inspired, guiding its world towards a future where every fall whispered of renewal and every spring sang of resilience.\\n\\nIn time, Rietan became a respected elder within its community, embodying the very essence of autumn—change, wisdom, and the beauty of letting go to embrace new beginnings. The Pokémon’s journey had come full circle, imprinting on its world a story as enduring as the seasons themselves.\" type='TextMessage'\n"
     ]
    }
   ],
   "source": [
    "from autogen_agentchat.base import TaskResult\n",
    "\n",
    "# When running inside a script, use a async main function and call it from `asyncio.run(...)`.\n",
    "await team3.reset()  # Reset the team for a new task.\n",
    "async for message in team3.run_stream(task=\"Write a short poem about the fall season.\"):  # type: ignore\n",
    "    if isinstance(message, TaskResult):\n",
    "        print(\"Stop Reason:\", message.stop_reason)\n",
    "    else:\n",
    "        print(message)"
   ]
  },
  {
   "cell_type": "code",
   "execution_count": null,
   "id": "412412f3",
   "metadata": {},
   "outputs": [],
   "source": []
  }
 ],
 "metadata": {
  "kernelspec": {
   "display_name": "autogen-crash-course",
   "language": "python",
   "name": "python3"
  },
  "language_info": {
   "codemirror_mode": {
    "name": "ipython",
    "version": 3
   },
   "file_extension": ".py",
   "mimetype": "text/x-python",
   "name": "python",
   "nbconvert_exporter": "python",
   "pygments_lexer": "ipython3",
   "version": "3.12.9"
  }
 },
 "nbformat": 4,
 "nbformat_minor": 5
}
